{
 "cells": [
  {
   "cell_type": "code",
   "execution_count": 30,
   "metadata": {},
   "outputs": [
    {
     "name": "stdout",
     "output_type": "stream",
     "text": [
      "<html><head></head><body></body></html>\n"
     ]
    }
   ],
   "source": [
    "import asyncio\n",
    "from selenium_driverless import webdriver\n",
    "from selenium_driverless.types.options import Options\n",
    "\n",
    "async def scraper():\n",
    "    # Configure Chrome to auto-download PDFs rather than preview in-browser\n",
    "    options = Options()\n",
    "    options.add_argument(\"--headless\")\n",
    "    prefs = {\n",
    "        \"download.default_directory\": r\"/home/julian/projects/auto_rep_dgps/downloads\",  # <-- Update this\n",
    "        \"plugins.always_open_pdf_externally\": True\n",
    "    }\n",
    "    options.add_experimental_option(\"prefs\", prefs)\n",
    "\n",
    "    async with webdriver.Chrome(options=options) as browser:\n",
    "        # Go to the PDF URL\n",
    "        await browser.get(\"https://journals.sagepub.com/doi/pdf/10.1177/09567976231217416\")\n",
    "\n",
    "        # Give the browser a few seconds to finish loading & downloading\n",
    "        await asyncio.sleep(10)\n",
    "\n",
    "        # Close the browser\n",
    "        await browser.quit()\n",
    "\n",
    "# Run the scraper\n",
    "await scraper()\n",
    "\n"
   ]
  }
 ],
 "metadata": {
  "kernelspec": {
   "display_name": ".venv",
   "language": "python",
   "name": "python3"
  },
  "language_info": {
   "codemirror_mode": {
    "name": "ipython",
    "version": 3
   },
   "file_extension": ".py",
   "mimetype": "text/x-python",
   "name": "python",
   "nbconvert_exporter": "python",
   "pygments_lexer": "ipython3",
   "version": "3.10.12"
  }
 },
 "nbformat": 4,
 "nbformat_minor": 2
}
